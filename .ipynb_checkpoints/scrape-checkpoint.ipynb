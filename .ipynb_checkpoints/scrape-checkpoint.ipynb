{
 "cells": [
  {
   "cell_type": "code",
   "execution_count": 27,
   "metadata": {},
   "outputs": [],
   "source": [
    "from selenium import webdriver\n",
    "import requests\n",
    "import os"
   ]
  },
  {
   "cell_type": "code",
   "execution_count": 28,
   "metadata": {},
   "outputs": [
    {
     "name": "stdout",
     "output_type": "stream",
     "text": [
      "    <div class=\"container\">\n",
      "        <div class=\"header\" id=\"header\">\n",
      "            <div class=\"logo\" id=\"logo\">验证中心</div>\n",
      "        </div>\n",
      "        <div class=\"content\">\n",
      "            <div class=\"root\" id=\"root\"></div>\n",
      "        </div>\n",
      "        <div class=\"footer\" id=\"footer\">©2018 meituan.com 京ICP证070791号 京公网安备1101050202554.</div>\n",
      "    </div>\n",
      "                                            <script type=\"text/javascript\">        window.yodaTheme = setTheme;\n",
      "        function setTheme(theme) {\n",
      "            var theme = theme || 'meituan';\n",
      "            var header = document.getElementById('header');\n",
      "            header.style.display = \"block\";\n",
      "            var logo = document.getElementById('logo');\n",
      "            var footer = document.getElementById('footer');\n",
      "            footer.style.display = \"block\";\n",
      "\n",
      "            var link = document.createElement('link');\n",
      "            link.rel = 'shortcut icon';\n",
      "            link.type = 'image/x-icon';\n",
      "\n",
      "            if (theme === 'meituan' || theme === 'mt' || theme === '') {\n",
      "                link.href = '/static/favicon.ico';\n",
      "            }\n",
      "            if (theme === 'dianping' || theme === 'dp') {\n",
      "                header.className = 'dpHeader';\n",
      "                logo.className = 'dpLogo';\n",
      "                footer.innerHTML = '© 2003-2017 dianping.com, All Rights Reserved.';\n",
      "                link.href = '//www.dpfile.com/s/res/favicon.5ff777c11d7833e57e01c9d192b7e427.ico';\n",
      "            }\n",
      "\n",
      "            document.head.appendChild(link);\n",
      "        }\n",
      "\n",
      "            var options = {\n",
      "            requestCode: \"6b499bb5c2f94baebcd3e45a29a473ad\",\n",
      "            succCallbackUrl: \"https\\x3A\\x2F\\x2Foptimus\\x2Dmtsi\\x2Emeituan\\x2Ecom\\x2Foptimus\\x2FverifyResult\\x3ForiginUrl\\x3Dhttp\\x253A\\x252F\\x252Fwww\\x2Edianping\\x2Ecom\\x252Fshop\\x252F18702095\",\n",
      "            failCallbackUrl: \"\",\n",
      "            forceCallback: \"false\",\n",
      "            root: \"root\",\n",
      "            platform: \"1000\",\n",
      "            theme: \"dianping\",\n",
      "            isMobile: false\n",
      "        }\n",
      "        YodaSeed(options, \"pro\");\n",
      "    </script>\n"
     ]
    }
   ],
   "source": [
    "browser = webdriver.Chrome(os.path.join(os.getcwd(), 'chromedriver'))\n",
    "url = 'https://www.dianping.com/shop/18702095'\n",
    "# headers = {'User-Agent': 'Mozilla/5.0 (Macintosh; Intel Mac OS X 10_11_5) AppleWebKit/537.36 (KHTML, like Gecko) Chrome/50.0.2661.102 Safari/537.36'}\n",
    "browser.get(url)\n",
    "innerHTML = browser.execute_script(\"return document.body.innerHTML\")\n",
    "print(innerHTML)"
   ]
  }
 ],
 "metadata": {
  "kernelspec": {
   "display_name": "Python 3",
   "language": "python",
   "name": "python3"
  },
  "language_info": {
   "codemirror_mode": {
    "name": "ipython",
    "version": 3
   },
   "file_extension": ".py",
   "mimetype": "text/x-python",
   "name": "python",
   "nbconvert_exporter": "python",
   "pygments_lexer": "ipython3",
   "version": "3.6.5"
  }
 },
 "nbformat": 4,
 "nbformat_minor": 2
}
