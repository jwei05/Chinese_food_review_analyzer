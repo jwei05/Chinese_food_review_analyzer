{
 "cells": [
  {
   "cell_type": "code",
   "execution_count": null,
   "metadata": {},
   "outputs": [],
   "source": [
    "def show_file(file): #print contents of encoded file\n",
    "    with open(file, 'rb') as f:\n",
    "        for line in f:\n",
    "            print(line.decode('utf-8'))"
   ]
  },
  {
   "cell_type": "code",
   "execution_count": 2,
   "metadata": {},
   "outputs": [],
   "source": [
    "menu = {}\n",
    "menu[\"三文鱼\"] = \"Salmon\"\n",
    "menu[\"茶碗蒸\"] = \"Steamed Egg\"\n",
    "menu[\"黄瓜鳗鱼卷\"] = \"UNAGI KYURI MAKI\"\n",
    "menu[\"波龙\"] = \"Lobster with Ginger and Scallion\"\n",
    "menu[\"清蒸鱼\"] = \"Steamed Big Flounder\"\n",
    "menu[\"鱼香肉丝\"] = \"Shredded Pork with Garlic Sauce\"\n",
    "menu[\"宫保鸡丁\"] = \"Kung Pao Chicken\"\n",
    "menu[\"姜葱焗龙虾\"] = \"Lobster with Ginger and Scallion\"\n",
    "menu[\"蒜蓉通菜\"] = \"Stir Fried Tong Cai\"\n",
    "menu[\"瑶柱蛋白炒饭\"] = \"Dried Scallop with Egg White\"\n",
    "menu[\"红烧豆腐\"] = \"Fried Bean Curd with Mushroom\"\n",
    "menu[\"蚝油牛肉\"] = \"Beef with Oyster Sauce\"\n",
    "menu[\"生炒三鲜\"] = \"Pan Fried Assorted Seafood\"\n",
    "menu[\"节瓜粉丝煲\"] = \"Dried Shrimp, Vermicelli and Pork with Fuzzy Melon\"\n",
    "menu[\"红豆汤\"] = \"Red Bean Soup\"\n",
    "menu[\"西米露\"] = \"Sweet Milk with Boba\"\n",
    "menu[\"椒盐牛仔骨\"] = \"Spicy Salted Dry Fried Veal Ribs\"\n",
    "menu[\"红酒烩牛尾\"] = \"Ox Tail with Red Wine\" \n",
    "menu[\"椒盐龙虾\"] = \"Spicy Salted Dry Fried Lobster\"\n",
    "menu[\"罗汉斋\"] = \"Buddha's Delight\"\n",
    "menu[\"珊瑚虾刺身\"]= \"Shrimp Sashimi\"\n",
    "menu[\"椒盐大蟹\"] = \"Spicy Salted Dry Fried Crab\"\n",
    "menu[\"豉汁蒸生蚝\"] = \"Steamed Oysters with Black Bean Sauce\""
   ]
  },
  {
   "cell_type": "code",
   "execution_count": 5,
   "metadata": {},
   "outputs": [],
   "source": [
    "def create_subphrase_mapping(phrase, menu):\n",
    "    name_to_index = dict()\n",
    "    index_to_subphrase = dict()\n",
    "    name_to_subphrase = dict()\n",
    "    indexes = []\n",
    "    for d in menu:\n",
    "        index = phrase.find(d)\n",
    "        if index != -1:\n",
    "            name_to_index[d] = index\n",
    "            indexes.append(index)\n",
    "    \n",
    "    indexes = sorted(indexes)\n",
    "    subphrases = [phrase[i:j] for i,j in zip(indexes, indexes[1:]+[None])]\n",
    "    \n",
    "    for i, sub in zip(indexes, subphrases):\n",
    "        index_to_subphrase[i] = sub\n",
    "    \n",
    "    for name in name_to_index:\n",
    "        i = name_to_index[name]\n",
    "        subphrase = index_to_subphrase[i]\n",
    "        name_to_subphrase[name] = subphrase\n",
    "    \n",
    "    return name_to_subphrase"
   ]
  },
  {
   "cell_type": "code",
   "execution_count": 7,
   "metadata": {},
   "outputs": [
    {
     "data": {
      "text/plain": [
       "{'三文鱼': '三文鱼还可以', '茶碗蒸': '茶碗蒸不错', '波龙': '波龙也好'}"
      ]
     },
     "execution_count": 7,
     "metadata": {},
     "output_type": "execute_result"
    }
   ],
   "source": [
    "create_subphrase_mapping(\"三文鱼还可以茶碗蒸不错波龙也好\", menu)"
   ]
  },
  {
   "cell_type": "code",
   "execution_count": 19,
   "metadata": {},
   "outputs": [],
   "source": [
    "def contains_diff_dish(phrase, name, menu):\n",
    "    for d in menu:\n",
    "        if d in phrase and d != name:\n",
    "            return True\n",
    "    return False"
   ]
  },
  {
   "cell_type": "code",
   "execution_count": 30,
   "metadata": {},
   "outputs": [],
   "source": [
    "def get_dishes(phrase, menu):\n",
    "    dishes = set()\n",
    "    for d in menu:\n",
    "        if d in phrase:\n",
    "            dishes.add(d)\n",
    "    return dishes"
   ]
  },
  {
   "cell_type": "code",
   "execution_count": 31,
   "metadata": {},
   "outputs": [],
   "source": [
    "def create_mapping(review, menu):\n",
    "    mapping = dict()\n",
    "    sentences = review.split(\"。\")\n",
    "    for sentence in sentences:\n",
    "        phrases = sentence.split(\"，\")\n",
    "        i = 0\n",
    "        while i < len(phrases):\n",
    "            phrase = phrases[i]\n",
    "            dishes = get_dishes(phrase, menu)\n",
    "            if len(dishes) > 1:\n",
    "                for d in dishes:\n",
    "                    mapping[d] = phrase\n",
    "                i+=1\n",
    "            elif len(dishes) == 1:\n",
    "                name = list(dishes)[0]\n",
    "                idea = phrase\n",
    "                i += 1\n",
    "                while i < (len(phrases)) and not contains_diff_dish(phrases[i], name, menu):\n",
    "                    idea += \"，\"\n",
    "                    idea += phrases[i]\n",
    "                    i+=1\n",
    "                mapping.update({name:idea})\n",
    "            else:\n",
    "                i+=1\n",
    "    return mapping "
   ]
  },
  {
   "cell_type": "code",
   "execution_count": 32,
   "metadata": {},
   "outputs": [
    {
     "ename": "TypeError",
     "evalue": "'set' object does not support indexing",
     "output_type": "error",
     "traceback": [
      "\u001b[0;31m---------------------------------------------------------------------------\u001b[0m",
      "\u001b[0;31mTypeError\u001b[0m                                 Traceback (most recent call last)",
      "\u001b[0;32m<ipython-input-32-9c399edef1d3>\u001b[0m in \u001b[0;36m<module>\u001b[0;34m\u001b[0m\n\u001b[0;32m----> 1\u001b[0;31m \u001b[0mcreate_mapping\u001b[0m\u001b[0;34m(\u001b[0m\u001b[0;34m\"三文鱼好吃而且波龙也不错，黄瓜鳗鱼卷有点咸了，不太爱吃，罗汉斋不错。红豆汤我觉得很一般，就那么回事吧，觉得不如生炒三鲜好吃\"\u001b[0m\u001b[0;34m,\u001b[0m \u001b[0mmenu\u001b[0m\u001b[0;34m)\u001b[0m\u001b[0;34m\u001b[0m\u001b[0m\n\u001b[0m",
      "\u001b[0;32m<ipython-input-31-afb0c460ab42>\u001b[0m in \u001b[0;36mcreate_mapping\u001b[0;34m(review, menu)\u001b[0m\n\u001b[1;32m     13\u001b[0m                 \u001b[0mi\u001b[0m\u001b[0;34m+=\u001b[0m\u001b[0;36m1\u001b[0m\u001b[0;34m\u001b[0m\u001b[0m\n\u001b[1;32m     14\u001b[0m             \u001b[0;32melif\u001b[0m \u001b[0mlen\u001b[0m\u001b[0;34m(\u001b[0m\u001b[0mdishes\u001b[0m\u001b[0;34m)\u001b[0m \u001b[0;34m==\u001b[0m \u001b[0;36m1\u001b[0m\u001b[0;34m:\u001b[0m\u001b[0;34m\u001b[0m\u001b[0m\n\u001b[0;32m---> 15\u001b[0;31m                 \u001b[0mname\u001b[0m \u001b[0;34m=\u001b[0m \u001b[0mdishes\u001b[0m\u001b[0;34m[\u001b[0m\u001b[0;36m0\u001b[0m\u001b[0;34m]\u001b[0m\u001b[0;34m\u001b[0m\u001b[0m\n\u001b[0m\u001b[1;32m     16\u001b[0m                 \u001b[0midea\u001b[0m \u001b[0;34m=\u001b[0m \u001b[0mphrase\u001b[0m\u001b[0;34m\u001b[0m\u001b[0m\n\u001b[1;32m     17\u001b[0m                 \u001b[0mi\u001b[0m \u001b[0;34m+=\u001b[0m \u001b[0;36m1\u001b[0m\u001b[0;34m\u001b[0m\u001b[0m\n",
      "\u001b[0;31mTypeError\u001b[0m: 'set' object does not support indexing"
     ]
    }
   ],
   "source": [
    "create_mapping(\"三文鱼好吃而且波龙也不错，黄瓜鳗鱼卷有点咸了，不太爱吃，罗汉斋不错。红豆汤我觉得很一般，就那么回事吧，觉得不如生炒三鲜好吃\", menu)"
   ]
  },
  {
   "cell_type": "code",
   "execution_count": null,
   "metadata": {},
   "outputs": [],
   "source": []
  }
 ],
 "metadata": {
  "kernelspec": {
   "display_name": "Python 3",
   "language": "python",
   "name": "python3"
  },
  "language_info": {
   "codemirror_mode": {
    "name": "ipython",
    "version": 3
   },
   "file_extension": ".py",
   "mimetype": "text/x-python",
   "name": "python",
   "nbconvert_exporter": "python",
   "pygments_lexer": "ipython3",
   "version": "3.6.5"
  }
 },
 "nbformat": 4,
 "nbformat_minor": 2
}
